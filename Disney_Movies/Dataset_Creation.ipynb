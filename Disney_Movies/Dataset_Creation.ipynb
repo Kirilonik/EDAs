{
 "cells": [
  {
   "cell_type": "markdown",
   "id": "e0d870f0",
   "metadata": {},
   "source": [
    "### Disney Dataset Creation (winth Python BeautifulSoup)\n",
    "#### Scrape and clean a list of Disney wiki pages to create a dataset to further analyze"
   ]
  },
  {
   "cell_type": "markdown",
   "id": "b281c517",
   "metadata": {},
   "source": [
    "### Task 1: Get Info Box (store in Python dict)\n",
    "#### Import libs"
   ]
  },
  {
   "cell_type": "code",
   "execution_count": 8,
   "id": "421ceb6c",
   "metadata": {},
   "outputs": [
    {
     "name": "stdout",
     "output_type": "stream",
     "text": [
      "Requirement already satisfied: requests in d:\\new folder\\lib\\site-packages (2.25.1)\n",
      "Requirement already satisfied: idna<3,>=2.5 in d:\\new folder\\lib\\site-packages (from requests) (2.10)\n",
      "Requirement already satisfied: urllib3<1.27,>=1.21.1 in d:\\new folder\\lib\\site-packages (from requests) (1.26.4)\n",
      "Requirement already satisfied: certifi>=2017.4.17 in d:\\new folder\\lib\\site-packages (from requests) (2020.12.5)\n",
      "Requirement already satisfied: chardet<5,>=3.0.2 in d:\\new folder\\lib\\site-packages (from requests) (4.0.0)\n",
      "Requirement already satisfied: bs4 in d:\\new folder\\lib\\site-packages (0.0.1)\n",
      "Requirement already satisfied: beautifulsoup4 in d:\\new folder\\lib\\site-packages (from bs4) (4.9.3)\n",
      "Requirement already satisfied: soupsieve>1.2 in d:\\new folder\\lib\\site-packages (from beautifulsoup4->bs4) (2.2.1)\n"
     ]
    }
   ],
   "source": [
    "! pip install requests\n",
    "! pip install bs4\n",
    "from bs4 import BeautifulSoup as bs\n",
    "import requests\n",
    "from pprint import pprint"
   ]
  },
  {
   "cell_type": "markdown",
   "id": "b6ed4220",
   "metadata": {},
   "source": [
    "#### Load the webpage"
   ]
  },
  {
   "cell_type": "code",
   "execution_count": 72,
   "id": "8e435869",
   "metadata": {},
   "outputs": [],
   "source": [
    "r = requests.get(\"https://en.wikipedia.org/wiki/Toy_Story_3\")\n",
    "# Next, convert r to a BS obj\n",
    "soup = bs(r.content) # make BS obj\n",
    "\n",
    "# Print out the HTML\n",
    "contents = soup.prettify()\n",
    "#  print(contents)"
   ]
  },
  {
   "cell_type": "code",
   "execution_count": 73,
   "id": "8c5fd323",
   "metadata": {},
   "outputs": [],
   "source": [
    "info_box = soup.find(class_=\"infobox vevent\") #  we find a sign with all the information about the film.\n",
    "#print(info_box.prettify())\n",
    "info_rows = info_box.find_all(\"tr\") # получаем список всех блоков tr в таблице \"infobox vevent\"\n",
    "#for row in info_rows:\n",
    "#    print(row.prettify()) #  проходимся и красиво печатаем"
   ]
  },
  {
   "cell_type": "code",
   "execution_count": 11,
   "id": "5f2852fd",
   "metadata": {},
   "outputs": [
    {
     "name": "stdout",
     "output_type": "stream",
     "text": [
      "{'Box office': '$1.067 billion[1]',\n",
      " 'Budget': '$200 million[1]',\n",
      " 'Cinematography': ['Jeremy Lasky', 'Kim White'],\n",
      " 'Country': 'United States',\n",
      " 'Directed by': 'Lee Unkrich',\n",
      " 'Distributed by': 'Walt Disney StudiosMotion Pictures',\n",
      " 'Edited by': 'Ken Schretzmann',\n",
      " 'Language': 'English',\n",
      " 'Music by': 'Randy Newman',\n",
      " 'Produced by': 'Darla K. Anderson',\n",
      " 'Production companies': ['Walt Disney Pictures', 'Pixar Animation Studios'],\n",
      " 'Release date': ['June 12, 2010 ( 2010-06-12 ) ( Taormina Film Fest )',\n",
      "                  'June 18, 2010 ( 2010-06-18 ) (United States)'],\n",
      " 'Running time': '103 minutes[1]',\n",
      " 'Screenplay by': 'Michael Arndt',\n",
      " 'Starring': ['Tom Hanks',\n",
      "              'Tim Allen',\n",
      "              'Joan Cusack',\n",
      "              'Don Rickles',\n",
      "              'Wallace Shawn',\n",
      "              'John Ratzenberger',\n",
      "              'Estelle Harris',\n",
      "              'Ned Beatty',\n",
      "              'Michael Keaton',\n",
      "              'Jodi Benson',\n",
      "              'John Morris'],\n",
      " 'Story by': ['John Lasseter', 'Andrew Stanton', 'Lee Unkrich'],\n",
      " 'Title': 'Toy Story 3'}\n"
     ]
    }
   ],
   "source": [
    "movie_info = {}\n",
    "def get_content_value(row_data): \n",
    "    # обрабатываем спец случай с несколькими значениями\n",
    "    if row_data.find(\"li\"):\n",
    "        return [li.get_text(\" \", strip=True).replace(\"\\xa0\", ' ') for li in row_data.find_all(\"li\")]\n",
    "    else:\n",
    "        return row_data.get_text(strip=True).replace(\"\\xa0\", ' ')\n",
    "\n",
    "# Заполняем основной словарь полученной с вики информацией, нужно чистить\n",
    "for index, row in enumerate(info_rows):\n",
    "    if index == 0:\n",
    "        movie_info[\"Title\"] = row.find(\"th\").get_text(\" \", strip=True)\n",
    "    elif index == 1:\n",
    "        continue\n",
    "    else:\n",
    "        content_key = row.find('th').get_text(\" \", strip=True)\n",
    "        content_value = get_content_value(row.find(\"td\"))\n",
    "        movie_info[content_key] = content_value\n",
    "        \n",
    "\n",
    "        \n",
    "pprint(movie_info)"
   ]
  },
  {
   "cell_type": "markdown",
   "id": "d389d4ae",
   "metadata": {},
   "source": [
    "### Task 2: Get info box for all movies"
   ]
  },
  {
   "cell_type": "code",
   "execution_count": 70,
   "id": "8fa1e243",
   "metadata": {},
   "outputs": [],
   "source": [
    "r = requests.get(\"https://en.wikipedia.org/wiki/List_of_Walt_Disney_Pictures_films\")\n",
    "# Next, convert r to a BS obj\n",
    "soup = bs(r.content) # make BS obj\n",
    "\n",
    "# Print out the HTML\n",
    "contents = soup.prettify()\n",
    "#print(contents)"
   ]
  },
  {
   "cell_type": "code",
   "execution_count": 14,
   "id": "89a1ca56",
   "metadata": {},
   "outputs": [],
   "source": [
    "def get_content_value(row_data): \n",
    "    # обрабатываем спец случай с несколькими значениями\n",
    "    if row_data.find(\"li\"):\n",
    "        return [li.get_text(\" \", strip=True).replace(\"\\xa0\", ' ') for li in row_data.find_all(\"li\")]\n",
    "    elif row_data.find(\"br\"):\n",
    "        return [text for text in row_data.stripped_strings]\n",
    "    else:\n",
    "        return row_data.get_text(strip=True).replace(\"\\xa0\", ' ')\n",
    "\n",
    "def clean_tags(soup):\n",
    "    for tag in soup.find_all([\"sup\",\"span\"]):\n",
    "        tag.decompose()\n",
    "\n",
    "def get_info_box(url: str):\n",
    "    r = requests.get(url)\n",
    "    soup = bs(r.content)\n",
    "    \n",
    "    info_box = soup.find(class_=\"infobox vevent\")\n",
    "    info_rows = info_box.find_all(\"tr\")\n",
    "    \n",
    "    clean_tags(soup)\n",
    "\n",
    "    movie_info = {}\n",
    "    for index, row in enumerate(info_rows):\n",
    "        if index == 0:\n",
    "            movie_info[\"Title\"] = row.find(\"th\").get_text(\" \", strip=True)\n",
    "        else:\n",
    "            header = row.find(\"th\")\n",
    "            if header:\n",
    "                content_key = row.find('th').get_text(\" \", strip=True)\n",
    "                content_value = get_content_value(row.find(\"td\"))\n",
    "                movie_info[content_key] = content_value\n",
    "    return movie_info\n"
   ]
  },
  {
   "cell_type": "code",
   "execution_count": null,
   "id": "38181c53",
   "metadata": {},
   "outputs": [],
   "source": []
  },
  {
   "cell_type": "markdown",
   "id": "56a7685d",
   "metadata": {},
   "source": [
    "#### Be careful when starting this cell, you have to choose how many pages you need."
   ]
  },
  {
   "cell_type": "code",
   "execution_count": 16,
   "id": "fa482353",
   "metadata": {
    "collapsed": true
   },
   "outputs": [
    {
     "name": "stdout",
     "output_type": "stream",
     "text": [
      "0\n",
      "10\n",
      "20\n",
      "30\n",
      "40\n",
      "Zorro the Avenger\n",
      "'NoneType' object has no attribute 'find'\n",
      "The Sign of Zorro\n",
      "'NoneType' object has no attribute 'find'\n",
      "50\n",
      "60\n",
      "70\n",
      "80\n",
      "90\n",
      "100\n",
      "110\n",
      "120\n",
      "True-Life Adventures\n",
      "'NoneType' object has no attribute 'find_all'\n",
      "130\n",
      "140\n",
      "The London Connection\n",
      "'NoneType' object has no attribute 'find'\n",
      "150\n",
      "160\n",
      "170\n",
      "180\n",
      "190\n",
      "200\n",
      "210\n",
      "220\n",
      "230\n",
      "240\n",
      "250\n",
      "260\n",
      "270\n",
      "280\n",
      "290\n",
      "300\n",
      "310\n",
      "320\n",
      "330\n",
      "340\n",
      "350\n",
      "360\n",
      "370\n",
      "380\n",
      "390\n",
      "400\n",
      "410\n",
      "420\n",
      "430\n",
      "440\n",
      "450\n",
      "460\n",
      "470\n",
      "480\n",
      "Strange World\n",
      "'NoneType' object has no attribute 'find_all'\n",
      "490\n",
      "500\n",
      "Sister Act 3\n",
      "'NoneType' object has no attribute 'find'\n",
      "Tower of Terror\n",
      "'NoneType' object has no attribute 'find_all'\n",
      "Tron: Ares\n",
      "'NoneType' object has no attribute 'find'\n"
     ]
    }
   ],
   "source": [
    "\n",
    "r = requests.get(\"https://en.wikipedia.org/wiki/List_of_Walt_Disney_Pictures_films\")\n",
    "soup = bs(r.content)\n",
    "movies = soup.select(\".wikitable.sortable i a\")\n",
    "\n",
    "base_path = \"https://en.wikipedia.org/\"\n",
    "MOVIE_INFO_LIST = []\n",
    "\n",
    "for index, movie in enumerate(movies):\n",
    "    if index % 10 == 0:\n",
    "        print(index)\n",
    "    try:\n",
    "        href = movie[\"href\"]\n",
    "        full_path = base_path + href\n",
    "        title = movie[\"title\"]\n",
    "        MOVIE_INFO_LIST.append(get_info_box(full_path))    \n",
    "    except Exception as e:\n",
    "        print(movie.get_text())\n",
    "        print(e)"
   ]
  },
  {
   "cell_type": "code",
   "execution_count": 17,
   "id": "9d462e42",
   "metadata": {},
   "outputs": [
    {
     "data": {
      "text/plain": [
       "502"
      ]
     },
     "execution_count": 17,
     "metadata": {},
     "output_type": "execute_result"
    }
   ],
   "source": [
    "len(MOVIE_INFO_LIST)"
   ]
  },
  {
   "cell_type": "markdown",
   "id": "7db2a69b",
   "metadata": {},
   "source": [
    "#### Save/Reload Movie Data"
   ]
  },
  {
   "cell_type": "code",
   "execution_count": 34,
   "id": "5e61130b",
   "metadata": {},
   "outputs": [],
   "source": [
    "import json\n",
    "\n",
    "def save_data(title: str, data) -> None:\n",
    "    \"\"\"Saving your data into json file named 'title'\n",
    "        title - name of file winth format(.txt,.json..)\n",
    "        data - your data)\n",
    "    \"\"\"\n",
    "    with open(title, \"w\", encoding=\"utf-8\") as f:\n",
    "        json.dump(data, f, ensure_ascii=False, indent=2)"
   ]
  },
  {
   "cell_type": "code",
   "execution_count": 75,
   "id": "da9c98ce",
   "metadata": {},
   "outputs": [],
   "source": [
    "import json\n",
    "\n",
    "def load_data(title: str):\n",
    "    with open(title, encoding=\"utf-8\") as f:\n",
    "        return json.load(f)"
   ]
  },
  {
   "cell_type": "code",
   "execution_count": 20,
   "id": "806a6175",
   "metadata": {},
   "outputs": [],
   "source": [
    "save_data(\"disney_data_сleaned.json\", MOVIE_INFO_LIST)"
   ]
  },
  {
   "cell_type": "code",
   "execution_count": null,
   "id": "290e191c",
   "metadata": {},
   "outputs": [],
   "source": []
  },
  {
   "cell_type": "markdown",
   "id": "8af3d09e",
   "metadata": {},
   "source": [
    "### Task 3: Clean our data!"
   ]
  },
  {
   "cell_type": "code",
   "execution_count": 21,
   "id": "874ce8c6",
   "metadata": {},
   "outputs": [],
   "source": [
    "movie_info_list = load_data(\"disney_data.json\")"
   ]
  },
  {
   "cell_type": "markdown",
   "id": "5d12ce84",
   "metadata": {},
   "source": [
    "#### Subtasks\n",
    "- Clean up ref [2][3].. -  <font color=\"green\">Check</font>\n",
    "- Convert running time into an int-  <font color=\"green\">Check</font>\n",
    "- Convert dates into datetime obj-  <font color=\"green\">Check</font>\n",
    "- Split up long strings-  <font color=\"green\">Check</font>\n",
    "- Convert Budget & Box office to numbers"
   ]
  },
  {
   "cell_type": "code",
   "execution_count": 22,
   "id": "9c143ff1",
   "metadata": {},
   "outputs": [],
   "source": [
    "#  Clean Up references (remove [1],[2],[3]...)\n",
    "#  Done wiht (def clean_tags() funk)"
   ]
  },
  {
   "cell_type": "code",
   "execution_count": 23,
   "id": "65f1f216",
   "metadata": {},
   "outputs": [],
   "source": [
    "#  Split up the long strings\n",
    "#  Done wintgh (added elif row_data.find(\"br\") statment in get_content_value() funk)"
   ]
  },
  {
   "cell_type": "code",
   "execution_count": 34,
   "id": "1b3c417f",
   "metadata": {},
   "outputs": [],
   "source": [
    "#  Convert running time into an int\n",
    "#  Done\n",
    "def minute_to_int(running_time):\n",
    "    if running_time == 'N/A':\n",
    "        return None\n",
    "    if isinstance(running_time, list):\n",
    "        return int(running_time[0].split(' ')[0])\n",
    "    else: #  is a string\n",
    "        return int(running_time.split(' ')[0])\n",
    "    \n",
    "for movie in movie_info_list:\n",
    "        movie[\"Running time (int)\"] = minute_to_int(movie.get(\"Running time\", 'N/A'))"
   ]
  },
  {
   "cell_type": "code",
   "execution_count": 37,
   "id": "b4e2c998",
   "metadata": {},
   "outputs": [],
   "source": [
    "#  print([movie.get(\"Running time (int)\", \"N\\A\") for movie in movie_info_list])"
   ]
  },
  {
   "cell_type": "code",
   "execution_count": 60,
   "id": "f368736a",
   "metadata": {},
   "outputs": [],
   "source": [
    "# Convert dates into DateTime objs\n",
    "\n",
    "from datetime import datetime\n",
    "dates = [movie.get(\"Release date\", \"N\\A\") for movie in movie_info_list]\n",
    "\n",
    "def clean_date(date):\n",
    "    return date.split(\"(\")[0].strip()\n",
    "\n",
    "def date_conversion(date):\n",
    "    if isinstance(date, list):\n",
    "        date = date[0]\n",
    "        \n",
    "    if date == 'N\\A':\n",
    "        return None\n",
    "        \n",
    "    date_str = clean_date(date)\n",
    "    \n",
    "    frms = [\"%B %d, %Y\", \"%d %B %Y\"]\n",
    "    for fmt in frms:\n",
    "        try:\n",
    "            return datetime.strptime(date_str, fmt)\n",
    "        except:\n",
    "            pass\n",
    "    return None"
   ]
  },
  {
   "cell_type": "code",
   "execution_count": 64,
   "id": "1b06404b",
   "metadata": {},
   "outputs": [],
   "source": [
    "for movie in movie_info_list:\n",
    "        movie[\"Release date (datetime)\"] = date_conversion(movie.get(\"Release date\",\"N/A\"))"
   ]
  },
  {
   "cell_type": "markdown",
   "id": "aa4fbdfc",
   "metadata": {},
   "source": [
    "#### Use pickle for save/load data"
   ]
  },
  {
   "cell_type": "code",
   "execution_count": 15,
   "id": "c0e1635c",
   "metadata": {},
   "outputs": [],
   "source": [
    "import pickle\n",
    "def save_data_pickle(name, data):\n",
    "    with open(name,  'wb') as f:\n",
    "        pickle.dump(data, f)"
   ]
  },
  {
   "cell_type": "code",
   "execution_count": 16,
   "id": "302f0604",
   "metadata": {},
   "outputs": [],
   "source": [
    "import pickle\n",
    "def load_data_pickle(name):\n",
    "    with open(name, \"rb\") as f:\n",
    "        return pickle.load(f)"
   ]
  },
  {
   "cell_type": "code",
   "execution_count": 17,
   "id": "a2c7d58b",
   "metadata": {},
   "outputs": [
    {
     "ename": "NameError",
     "evalue": "name 'movie_info_list' is not defined",
     "output_type": "error",
     "traceback": [
      "\u001b[1;31m---------------------------------------------------------------------------\u001b[0m",
      "\u001b[1;31mNameError\u001b[0m                                 Traceback (most recent call last)",
      "\u001b[1;32m<ipython-input-17-f69c310d570f>\u001b[0m in \u001b[0;36m<module>\u001b[1;34m\u001b[0m\n\u001b[1;32m----> 1\u001b[1;33m \u001b[0msave_data_pickle\u001b[0m\u001b[1;33m(\u001b[0m\u001b[1;34m\"disney_data_сleaned_formated.pickle\"\u001b[0m\u001b[1;33m,\u001b[0m \u001b[0mmovie_info_list\u001b[0m\u001b[1;33m)\u001b[0m\u001b[1;33m\u001b[0m\u001b[1;33m\u001b[0m\u001b[0m\n\u001b[0m",
      "\u001b[1;31mNameError\u001b[0m: name 'movie_info_list' is not defined"
     ]
    }
   ],
   "source": [
    "save_data_pickle(\"disney_data_сleaned_formated.pickle\", movie_info_list)"
   ]
  },
  {
   "cell_type": "markdown",
   "id": "821a69b5",
   "metadata": {},
   "source": [
    "### Task 4: Attach IMDB/Rotten Tomatoes/Metascore scores"
   ]
  },
  {
   "cell_type": "code",
   "execution_count": 18,
   "id": "a8dfdced",
   "metadata": {},
   "outputs": [],
   "source": [
    "movie_info_list = load_data_pickle(\"disney_data_сleaned_formated.pickle\")"
   ]
  },
  {
   "cell_type": "code",
   "execution_count": 19,
   "id": "473c8e7c",
   "metadata": {},
   "outputs": [
    {
     "data": {
      "text/plain": [
       "{'Title': 'A Wrinkle in Time',\n",
       " 'Directed by': 'Ava DuVernay',\n",
       " 'Screenplay by': ['Jennifer Lee', 'Jeff Stockwell'],\n",
       " 'Based on': ['A Wrinkle in Time', 'by', \"Madeleine L'Engle\"],\n",
       " 'Produced by': ['Jim Whitaker', 'Catherine Hand'],\n",
       " 'Starring': ['Oprah Winfrey',\n",
       "  'Reese Witherspoon',\n",
       "  'Mindy Kaling',\n",
       "  'Gugu Mbatha-Raw',\n",
       "  'Michael Peña',\n",
       "  'Zach Galifianakis',\n",
       "  'Chris Pine'],\n",
       " 'Cinematography': 'Tobias A. Schliessler',\n",
       " 'Edited by': 'Spencer Averick',\n",
       " 'Music by': 'Ramin Djawadi',\n",
       " 'Production companies': ['Walt Disney Pictures', 'Whitaker Entertainment'],\n",
       " 'Distributed by': ['Walt Disney Studios', 'Motion Pictures'],\n",
       " 'Release date': ['February 26, 2018 ( El Capitan Theatre )',\n",
       "  'March 9, 2018 (United States)'],\n",
       " 'Running time': '109 minutes',\n",
       " 'Country': 'United States',\n",
       " 'Language': 'English',\n",
       " 'Budget': '$100–130 million',\n",
       " 'Box office': '$133.4 million',\n",
       " 'Running time (int)': 109,\n",
       " 'Release date (datetime)': datetime.datetime(2018, 2, 26, 0, 0)}"
      ]
     },
     "execution_count": 19,
     "metadata": {},
     "output_type": "execute_result"
    }
   ],
   "source": [
    "movie_info_list[-60]"
   ]
  },
  {
   "cell_type": "markdown",
   "id": "0b8fcd69",
   "metadata": {},
   "source": [
    "#### I will use the OMDB api"
   ]
  },
  {
   "cell_type": "code",
   "execution_count": 20,
   "id": "bc5f89c3",
   "metadata": {},
   "outputs": [],
   "source": [
    "#  http://www.omdbapi.com/?apikey=[yourkey]&"
   ]
  },
  {
   "cell_type": "code",
   "execution_count": 21,
   "id": "5590962e",
   "metadata": {},
   "outputs": [],
   "source": [
    "import requests\n",
    "import urllib\n",
    "import os\n",
    "\n",
    "def get_omdb_info(title):\n",
    "    base_url = \"http://www.omdbapi.com/?\"\n",
    "    parameters = {\"apikey\": os.environ['OMDB_API_KEY'], \"t\":title }\n",
    "    parameters_encoded = urllib.parse.urlencode(parameters)\n",
    "    full_url = base_url + parameters_encoded\n",
    "    return requests.get(full_url).json()\n",
    "\n",
    "def get_rotten_tomato_score(omdb_info):\n",
    "    return get_omdb_info(\"A Wrinkle in Time\")[\"Ratings\"][1][\"Value\"]"
   ]
  },
  {
   "cell_type": "code",
   "execution_count": 26,
   "id": "c215fe89",
   "metadata": {
    "collapsed": true
   },
   "outputs": [
    {
     "name": "stdout",
     "output_type": "stream",
     "text": [
      "0\n",
      "10\n",
      "20\n",
      "30\n",
      "40\n",
      "50\n",
      "60\n",
      "70\n",
      "80\n",
      "90\n",
      "100\n",
      "110\n",
      "120\n",
      "130\n",
      "140\n",
      "150\n",
      "160\n",
      "170\n",
      "180\n",
      "190\n",
      "200\n",
      "210\n",
      "220\n",
      "230\n",
      "240\n",
      "250\n",
      "260\n",
      "270\n",
      "280\n",
      "290\n",
      "300\n",
      "310\n",
      "320\n",
      "330\n",
      "340\n",
      "350\n",
      "360\n",
      "370\n",
      "380\n",
      "390\n",
      "400\n",
      "410\n",
      "420\n",
      "430\n",
      "440\n",
      "450\n",
      "460\n",
      "470\n",
      "480\n",
      "490\n",
      "500\n"
     ]
    }
   ],
   "source": [
    "from IPython.display import clear_output\n",
    "for index, movie in enumerate(movie_info_list):\n",
    "    if index % 10 == 0:\n",
    "        clear_output(wait=True)\n",
    "        print(index)\n",
    "    title = movie[\"Title\"]\n",
    "    omdb_info = get_omdb_info(title)\n",
    "    movie['imdb'] = omdb_info.get(\"imdbRating\", None)\n",
    "    movie['Metascore'] = omdb_info.get(\"Metascore\", None)\n",
    "    movie[\"rotten tomatoes\"] = get_rotten_tomato_score(omdb_info)"
   ]
  },
  {
   "cell_type": "code",
   "execution_count": 28,
   "id": "89cae181",
   "metadata": {},
   "outputs": [],
   "source": [
    "save_data_pickle(\"disney_data_сleaned_formated.pickle\", movie_info_list)"
   ]
  },
  {
   "cell_type": "markdown",
   "id": "a086e7df",
   "metadata": {},
   "source": [
    "### Task 5: Save data as JSON & CSV"
   ]
  },
  {
   "cell_type": "code",
   "execution_count": 29,
   "id": "a33a862b",
   "metadata": {},
   "outputs": [],
   "source": [
    "movie_info_copy = [movie.copy() for movie in movie_info_list]"
   ]
  },
  {
   "cell_type": "code",
   "execution_count": 31,
   "id": "4af05410",
   "metadata": {},
   "outputs": [
    {
     "data": {
      "text/plain": [
       "datetime.datetime(1960, 12, 21, 0, 0)"
      ]
     },
     "execution_count": 31,
     "metadata": {},
     "output_type": "execute_result"
    }
   ],
   "source": [
    "movie_info_copy[49][\"Release date (datetime)\"] # it's main issue"
   ]
  },
  {
   "cell_type": "code",
   "execution_count": 32,
   "id": "3db899a5",
   "metadata": {},
   "outputs": [],
   "source": [
    "for movie in movie_info_copy:\n",
    "    current_data = movie[\"Release date (datetime)\"]\n",
    "    if current_data:\n",
    "        movie[\"Release date (datetime)\"] = current_data.strftime(\"%B %d,%Y\")\n",
    "    else:\n",
    "        movie[\"Release date (datetime)\"] = None"
   ]
  },
  {
   "cell_type": "code",
   "execution_count": 33,
   "id": "6d4cb5f2",
   "metadata": {},
   "outputs": [
    {
     "data": {
      "text/plain": [
       "'December 21,1960'"
      ]
     },
     "execution_count": 33,
     "metadata": {},
     "output_type": "execute_result"
    }
   ],
   "source": [
    "movie_info_copy[49][\"Release date (datetime)\"]"
   ]
  },
  {
   "cell_type": "code",
   "execution_count": 35,
   "id": "4c210030",
   "metadata": {},
   "outputs": [],
   "source": [
    "save_data(\"disney_data_final.json\", movie_info_copy)"
   ]
  },
  {
   "cell_type": "markdown",
   "id": "2584673d",
   "metadata": {},
   "source": [
    "#### Convert data to CSV"
   ]
  },
  {
   "cell_type": "code",
   "execution_count": 36,
   "id": "96f74af3",
   "metadata": {},
   "outputs": [
    {
     "data": {
      "text/html": [
       "<div>\n",
       "<style scoped>\n",
       "    .dataframe tbody tr th:only-of-type {\n",
       "        vertical-align: middle;\n",
       "    }\n",
       "\n",
       "    .dataframe tbody tr th {\n",
       "        vertical-align: top;\n",
       "    }\n",
       "\n",
       "    .dataframe thead th {\n",
       "        text-align: right;\n",
       "    }\n",
       "</style>\n",
       "<table border=\"1\" class=\"dataframe\">\n",
       "  <thead>\n",
       "    <tr style=\"text-align: right;\">\n",
       "      <th></th>\n",
       "      <th>Title</th>\n",
       "      <th>Production company</th>\n",
       "      <th>Distributed by</th>\n",
       "      <th>Release date</th>\n",
       "      <th>Running time</th>\n",
       "      <th>Country</th>\n",
       "      <th>Language</th>\n",
       "      <th>Box office</th>\n",
       "      <th>Running time (int)</th>\n",
       "      <th>Release date (datetime)</th>\n",
       "      <th>...</th>\n",
       "      <th>Production companies</th>\n",
       "      <th>Color process</th>\n",
       "      <th>Japanese</th>\n",
       "      <th>Hepburn</th>\n",
       "      <th>Adaptation by</th>\n",
       "      <th>Animation by</th>\n",
       "      <th>Traditional</th>\n",
       "      <th>Simplified</th>\n",
       "      <th>Original title</th>\n",
       "      <th>Layouts by</th>\n",
       "    </tr>\n",
       "  </thead>\n",
       "  <tbody>\n",
       "    <tr>\n",
       "      <th>0</th>\n",
       "      <td>Academy Award Review of</td>\n",
       "      <td>Walt Disney Productions</td>\n",
       "      <td>RKO Radio Pictures</td>\n",
       "      <td>[May 19, 1937]</td>\n",
       "      <td>41 minutes (74 minutes 1966 release)</td>\n",
       "      <td>United States</td>\n",
       "      <td>English</td>\n",
       "      <td>$45.472</td>\n",
       "      <td>41.0</td>\n",
       "      <td>1937-05-19</td>\n",
       "      <td>...</td>\n",
       "      <td>NaN</td>\n",
       "      <td>NaN</td>\n",
       "      <td>NaN</td>\n",
       "      <td>NaN</td>\n",
       "      <td>NaN</td>\n",
       "      <td>NaN</td>\n",
       "      <td>NaN</td>\n",
       "      <td>NaN</td>\n",
       "      <td>NaN</td>\n",
       "      <td>NaN</td>\n",
       "    </tr>\n",
       "    <tr>\n",
       "      <th>1</th>\n",
       "      <td>Snow White and the Seven Dwarfs</td>\n",
       "      <td>Walt Disney Productions</td>\n",
       "      <td>RKO Radio Pictures</td>\n",
       "      <td>[December 21, 1937 ( Carthay Circle Theatre )]</td>\n",
       "      <td>83 minutes</td>\n",
       "      <td>United States</td>\n",
       "      <td>English</td>\n",
       "      <td>$418 million</td>\n",
       "      <td>83.0</td>\n",
       "      <td>1937-12-21</td>\n",
       "      <td>...</td>\n",
       "      <td>NaN</td>\n",
       "      <td>NaN</td>\n",
       "      <td>NaN</td>\n",
       "      <td>NaN</td>\n",
       "      <td>NaN</td>\n",
       "      <td>NaN</td>\n",
       "      <td>NaN</td>\n",
       "      <td>NaN</td>\n",
       "      <td>NaN</td>\n",
       "      <td>NaN</td>\n",
       "    </tr>\n",
       "    <tr>\n",
       "      <th>2</th>\n",
       "      <td>Pinocchio</td>\n",
       "      <td>Walt Disney Productions</td>\n",
       "      <td>RKO Radio Pictures</td>\n",
       "      <td>[February 7, 1940 ( Center Theatre ), February...</td>\n",
       "      <td>88 minutes</td>\n",
       "      <td>United States</td>\n",
       "      <td>English</td>\n",
       "      <td>$164 million</td>\n",
       "      <td>88.0</td>\n",
       "      <td>1940-02-07</td>\n",
       "      <td>...</td>\n",
       "      <td>NaN</td>\n",
       "      <td>NaN</td>\n",
       "      <td>NaN</td>\n",
       "      <td>NaN</td>\n",
       "      <td>NaN</td>\n",
       "      <td>NaN</td>\n",
       "      <td>NaN</td>\n",
       "      <td>NaN</td>\n",
       "      <td>NaN</td>\n",
       "      <td>NaN</td>\n",
       "    </tr>\n",
       "    <tr>\n",
       "      <th>3</th>\n",
       "      <td>Fantasia</td>\n",
       "      <td>Walt Disney Productions</td>\n",
       "      <td>RKO Radio Pictures</td>\n",
       "      <td>[November 13, 1940]</td>\n",
       "      <td>126 minutes</td>\n",
       "      <td>United States</td>\n",
       "      <td>English</td>\n",
       "      <td>$76.4–$83.3 million (United States and Canada)</td>\n",
       "      <td>126.0</td>\n",
       "      <td>1940-11-13</td>\n",
       "      <td>...</td>\n",
       "      <td>NaN</td>\n",
       "      <td>NaN</td>\n",
       "      <td>NaN</td>\n",
       "      <td>NaN</td>\n",
       "      <td>NaN</td>\n",
       "      <td>NaN</td>\n",
       "      <td>NaN</td>\n",
       "      <td>NaN</td>\n",
       "      <td>NaN</td>\n",
       "      <td>NaN</td>\n",
       "    </tr>\n",
       "    <tr>\n",
       "      <th>4</th>\n",
       "      <td>The Reluctant Dragon</td>\n",
       "      <td>Walt Disney Productions</td>\n",
       "      <td>RKO Radio Pictures</td>\n",
       "      <td>[June 27, 1941]</td>\n",
       "      <td>74 minutes</td>\n",
       "      <td>United States</td>\n",
       "      <td>English</td>\n",
       "      <td>$960,000 (worldwide rentals)</td>\n",
       "      <td>74.0</td>\n",
       "      <td>1941-06-27</td>\n",
       "      <td>...</td>\n",
       "      <td>NaN</td>\n",
       "      <td>NaN</td>\n",
       "      <td>NaN</td>\n",
       "      <td>NaN</td>\n",
       "      <td>NaN</td>\n",
       "      <td>NaN</td>\n",
       "      <td>NaN</td>\n",
       "      <td>NaN</td>\n",
       "      <td>NaN</td>\n",
       "      <td>NaN</td>\n",
       "    </tr>\n",
       "  </tbody>\n",
       "</table>\n",
       "<p>5 rows × 37 columns</p>\n",
       "</div>"
      ],
      "text/plain": [
       "                             Title       Production company  \\\n",
       "0          Academy Award Review of  Walt Disney Productions   \n",
       "1  Snow White and the Seven Dwarfs  Walt Disney Productions   \n",
       "2                        Pinocchio  Walt Disney Productions   \n",
       "3                         Fantasia  Walt Disney Productions   \n",
       "4             The Reluctant Dragon  Walt Disney Productions   \n",
       "\n",
       "       Distributed by                                       Release date  \\\n",
       "0  RKO Radio Pictures                                     [May 19, 1937]   \n",
       "1  RKO Radio Pictures     [December 21, 1937 ( Carthay Circle Theatre )]   \n",
       "2  RKO Radio Pictures  [February 7, 1940 ( Center Theatre ), February...   \n",
       "3  RKO Radio Pictures                                [November 13, 1940]   \n",
       "4  RKO Radio Pictures                                    [June 27, 1941]   \n",
       "\n",
       "                           Running time        Country Language  \\\n",
       "0  41 minutes (74 minutes 1966 release)  United States  English   \n",
       "1                            83 minutes  United States  English   \n",
       "2                            88 minutes  United States  English   \n",
       "3                           126 minutes  United States  English   \n",
       "4                            74 minutes  United States  English   \n",
       "\n",
       "                                       Box office  Running time (int)  \\\n",
       "0                                         $45.472                41.0   \n",
       "1                                    $418 million                83.0   \n",
       "2                                    $164 million                88.0   \n",
       "3  $76.4–$83.3 million (United States and Canada)               126.0   \n",
       "4                    $960,000 (worldwide rentals)                74.0   \n",
       "\n",
       "  Release date (datetime)  ... Production companies Color process Japanese  \\\n",
       "0              1937-05-19  ...                  NaN           NaN      NaN   \n",
       "1              1937-12-21  ...                  NaN           NaN      NaN   \n",
       "2              1940-02-07  ...                  NaN           NaN      NaN   \n",
       "3              1940-11-13  ...                  NaN           NaN      NaN   \n",
       "4              1941-06-27  ...                  NaN           NaN      NaN   \n",
       "\n",
       "  Hepburn Adaptation by Animation by Traditional Simplified Original title  \\\n",
       "0     NaN           NaN          NaN         NaN        NaN            NaN   \n",
       "1     NaN           NaN          NaN         NaN        NaN            NaN   \n",
       "2     NaN           NaN          NaN         NaN        NaN            NaN   \n",
       "3     NaN           NaN          NaN         NaN        NaN            NaN   \n",
       "4     NaN           NaN          NaN         NaN        NaN            NaN   \n",
       "\n",
       "  Layouts by  \n",
       "0        NaN  \n",
       "1        NaN  \n",
       "2        NaN  \n",
       "3        NaN  \n",
       "4        NaN  \n",
       "\n",
       "[5 rows x 37 columns]"
      ]
     },
     "execution_count": 36,
     "metadata": {},
     "output_type": "execute_result"
    }
   ],
   "source": [
    "import pandas as pd\n",
    "df = pd.DataFrame(movie_info_list)\n"
   ]
  },
  {
   "cell_type": "code",
   "execution_count": 39,
   "id": "832c0c1c",
   "metadata": {},
   "outputs": [],
   "source": [
    "df.to_csv(\"disney_movie_data_final.csv\")"
   ]
  },
  {
   "cell_type": "code",
   "execution_count": null,
   "id": "04564a32",
   "metadata": {},
   "outputs": [],
   "source": []
  },
  {
   "cell_type": "code",
   "execution_count": null,
   "id": "46f0cb29",
   "metadata": {},
   "outputs": [],
   "source": []
  }
 ],
 "metadata": {
  "kernelspec": {
   "display_name": "Python 3",
   "language": "python",
   "name": "python3"
  },
  "language_info": {
   "codemirror_mode": {
    "name": "ipython",
    "version": 3
   },
   "file_extension": ".py",
   "mimetype": "text/x-python",
   "name": "python",
   "nbconvert_exporter": "python",
   "pygments_lexer": "ipython3",
   "version": "3.8.8"
  }
 },
 "nbformat": 4,
 "nbformat_minor": 5
}
