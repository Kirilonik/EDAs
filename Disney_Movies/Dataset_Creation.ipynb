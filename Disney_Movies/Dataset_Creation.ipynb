{
 "cells": [
  {
   "cell_type": "markdown",
   "id": "e0d870f0",
   "metadata": {},
   "source": [
    "### Disney Dataset Creation (winth Python BeautifulSoup)\n",
    "#### Scrape and clean a list of Disney wiki pages to create a dataset to further analyze"
   ]
  },
  {
   "cell_type": "markdown",
   "id": "b281c517",
   "metadata": {},
   "source": [
    "### Task 1: Get Info Box (store in Python dict)\n",
    "#### Import libs"
   ]
  },
  {
   "cell_type": "code",
   "execution_count": 8,
   "id": "421ceb6c",
   "metadata": {},
   "outputs": [
    {
     "name": "stdout",
     "output_type": "stream",
     "text": [
      "Requirement already satisfied: requests in d:\\new folder\\lib\\site-packages (2.25.1)\n",
      "Requirement already satisfied: idna<3,>=2.5 in d:\\new folder\\lib\\site-packages (from requests) (2.10)\n",
      "Requirement already satisfied: urllib3<1.27,>=1.21.1 in d:\\new folder\\lib\\site-packages (from requests) (1.26.4)\n",
      "Requirement already satisfied: certifi>=2017.4.17 in d:\\new folder\\lib\\site-packages (from requests) (2020.12.5)\n",
      "Requirement already satisfied: chardet<5,>=3.0.2 in d:\\new folder\\lib\\site-packages (from requests) (4.0.0)\n",
      "Requirement already satisfied: bs4 in d:\\new folder\\lib\\site-packages (0.0.1)\n",
      "Requirement already satisfied: beautifulsoup4 in d:\\new folder\\lib\\site-packages (from bs4) (4.9.3)\n",
      "Requirement already satisfied: soupsieve>1.2 in d:\\new folder\\lib\\site-packages (from beautifulsoup4->bs4) (2.2.1)\n"
     ]
    }
   ],
   "source": [
    "! pip install requests\n",
    "! pip install bs4\n",
    "from bs4 import BeautifulSoup as bs\n",
    "import requests\n",
    "from pprint import pprint"
   ]
  },
  {
   "cell_type": "markdown",
   "id": "b6ed4220",
   "metadata": {},
   "source": [
    "#### Load the webpage"
   ]
  },
  {
   "cell_type": "code",
   "execution_count": 72,
   "id": "8e435869",
   "metadata": {},
   "outputs": [],
   "source": [
    "r = requests.get(\"https://en.wikipedia.org/wiki/Toy_Story_3\")\n",
    "# Next, convert r to a BS obj\n",
    "soup = bs(r.content) # make BS obj\n",
    "\n",
    "# Print out the HTML\n",
    "contents = soup.prettify()\n",
    "#  print(contents)"
   ]
  },
  {
   "cell_type": "code",
   "execution_count": 73,
   "id": "8c5fd323",
   "metadata": {},
   "outputs": [],
   "source": [
    "info_box = soup.find(class_=\"infobox vevent\") #  we find a sign with all the information about the film.\n",
    "#print(info_box.prettify())\n",
    "info_rows = info_box.find_all(\"tr\") # получаем список всех блоков tr в таблице \"infobox vevent\"\n",
    "#for row in info_rows:\n",
    "#    print(row.prettify()) #  проходимся и красиво печатаем"
   ]
  },
  {
   "cell_type": "code",
   "execution_count": 11,
   "id": "5f2852fd",
   "metadata": {},
   "outputs": [
    {
     "name": "stdout",
     "output_type": "stream",
     "text": [
      "{'Box office': '$1.067 billion[1]',\n",
      " 'Budget': '$200 million[1]',\n",
      " 'Cinematography': ['Jeremy Lasky', 'Kim White'],\n",
      " 'Country': 'United States',\n",
      " 'Directed by': 'Lee Unkrich',\n",
      " 'Distributed by': 'Walt Disney StudiosMotion Pictures',\n",
      " 'Edited by': 'Ken Schretzmann',\n",
      " 'Language': 'English',\n",
      " 'Music by': 'Randy Newman',\n",
      " 'Produced by': 'Darla K. Anderson',\n",
      " 'Production companies': ['Walt Disney Pictures', 'Pixar Animation Studios'],\n",
      " 'Release date': ['June 12, 2010 ( 2010-06-12 ) ( Taormina Film Fest )',\n",
      "                  'June 18, 2010 ( 2010-06-18 ) (United States)'],\n",
      " 'Running time': '103 minutes[1]',\n",
      " 'Screenplay by': 'Michael Arndt',\n",
      " 'Starring': ['Tom Hanks',\n",
      "              'Tim Allen',\n",
      "              'Joan Cusack',\n",
      "              'Don Rickles',\n",
      "              'Wallace Shawn',\n",
      "              'John Ratzenberger',\n",
      "              'Estelle Harris',\n",
      "              'Ned Beatty',\n",
      "              'Michael Keaton',\n",
      "              'Jodi Benson',\n",
      "              'John Morris'],\n",
      " 'Story by': ['John Lasseter', 'Andrew Stanton', 'Lee Unkrich'],\n",
      " 'Title': 'Toy Story 3'}\n"
     ]
    }
   ],
   "source": [
    "movie_info = {}\n",
    "def get_content_value(row_data): \n",
    "    # обрабатываем спец случай с несколькими значениями\n",
    "    if row_data.find(\"li\"):\n",
    "        return [li.get_text(\" \", strip=True).replace(\"\\xa0\", ' ') for li in row_data.find_all(\"li\")]\n",
    "    else:\n",
    "        return row_data.get_text(strip=True).replace(\"\\xa0\", ' ')\n",
    "\n",
    "# Заполняем основной словарь полученной с вики информацией, нужно чистить\n",
    "for index, row in enumerate(info_rows):\n",
    "    if index == 0:\n",
    "        movie_info[\"Title\"] = row.find(\"th\").get_text(\" \", strip=True)\n",
    "    elif index == 1:\n",
    "        continue\n",
    "    else:\n",
    "        content_key = row.find('th').get_text(\" \", strip=True)\n",
    "        content_value = get_content_value(row.find(\"td\"))\n",
    "        movie_info[content_key] = content_value\n",
    "        \n",
    "\n",
    "        \n",
    "pprint(movie_info)"
   ]
  },
  {
   "cell_type": "markdown",
   "id": "d389d4ae",
   "metadata": {},
   "source": [
    "### Task 2: Get info box for all movies"
   ]
  },
  {
   "cell_type": "code",
   "execution_count": 70,
   "id": "8fa1e243",
   "metadata": {},
   "outputs": [],
   "source": [
    "r = requests.get(\"https://en.wikipedia.org/wiki/List_of_Walt_Disney_Pictures_films\")\n",
    "# Next, convert r to a BS obj\n",
    "soup = bs(r.content) # make BS obj\n",
    "\n",
    "# Print out the HTML\n",
    "contents = soup.prettify()\n",
    "#print(contents)"
   ]
  },
  {
   "cell_type": "code",
   "execution_count": 14,
   "id": "89a1ca56",
   "metadata": {},
   "outputs": [],
   "source": [
    "def get_content_value(row_data): \n",
    "    # обрабатываем спец случай с несколькими значениями\n",
    "    if row_data.find(\"li\"):\n",
    "        return [li.get_text(\" \", strip=True).replace(\"\\xa0\", ' ') for li in row_data.find_all(\"li\")]\n",
    "    elif row_data.find(\"br\"):\n",
    "        return [text for text in row_data.stripped_strings]\n",
    "    else:\n",
    "        return row_data.get_text(strip=True).replace(\"\\xa0\", ' ')\n",
    "\n",
    "def clean_tags(soup):\n",
    "    for tag in soup.find_all([\"sup\",\"span\"]):\n",
    "        tag.decompose()\n",
    "\n",
    "def get_info_box(url: str):\n",
    "    r = requests.get(url)\n",
    "    soup = bs(r.content)\n",
    "    \n",
    "    info_box = soup.find(class_=\"infobox vevent\")\n",
    "    info_rows = info_box.find_all(\"tr\")\n",
    "    \n",
    "    clean_tags(soup)\n",
    "\n",
    "    movie_info = {}\n",
    "    for index, row in enumerate(info_rows):\n",
    "        if index == 0:\n",
    "            movie_info[\"Title\"] = row.find(\"th\").get_text(\" \", strip=True)\n",
    "        else:\n",
    "            header = row.find(\"th\")\n",
    "            if header:\n",
    "                content_key = row.find('th').get_text(\" \", strip=True)\n",
    "                content_value = get_content_value(row.find(\"td\"))\n",
    "                movie_info[content_key] = content_value\n",
    "    return movie_info\n"
   ]
  },
  {
   "cell_type": "code",
   "execution_count": null,
   "id": "38181c53",
   "metadata": {},
   "outputs": [],
   "source": []
  },
  {
   "cell_type": "markdown",
   "id": "56a7685d",
   "metadata": {},
   "source": [
    "#### Be careful when starting this cell, you have to choose how many pages you need."
   ]
  },
  {
   "cell_type": "code",
   "execution_count": 16,
   "id": "fa482353",
   "metadata": {
    "collapsed": true
   },
   "outputs": [
    {
     "name": "stdout",
     "output_type": "stream",
     "text": [
      "0\n",
      "10\n",
      "20\n",
      "30\n",
      "40\n",
      "Zorro the Avenger\n",
      "'NoneType' object has no attribute 'find'\n",
      "The Sign of Zorro\n",
      "'NoneType' object has no attribute 'find'\n",
      "50\n",
      "60\n",
      "70\n",
      "80\n",
      "90\n",
      "100\n",
      "110\n",
      "120\n",
      "True-Life Adventures\n",
      "'NoneType' object has no attribute 'find_all'\n",
      "130\n",
      "140\n",
      "The London Connection\n",
      "'NoneType' object has no attribute 'find'\n",
      "150\n",
      "160\n",
      "170\n",
      "180\n",
      "190\n",
      "200\n",
      "210\n",
      "220\n",
      "230\n",
      "240\n",
      "250\n",
      "260\n",
      "270\n",
      "280\n",
      "290\n",
      "300\n",
      "310\n",
      "320\n",
      "330\n",
      "340\n",
      "350\n",
      "360\n",
      "370\n",
      "380\n",
      "390\n",
      "400\n",
      "410\n",
      "420\n",
      "430\n",
      "440\n",
      "450\n",
      "460\n",
      "470\n",
      "480\n",
      "Strange World\n",
      "'NoneType' object has no attribute 'find_all'\n",
      "490\n",
      "500\n",
      "Sister Act 3\n",
      "'NoneType' object has no attribute 'find'\n",
      "Tower of Terror\n",
      "'NoneType' object has no attribute 'find_all'\n",
      "Tron: Ares\n",
      "'NoneType' object has no attribute 'find'\n"
     ]
    }
   ],
   "source": [
    "\n",
    "r = requests.get(\"https://en.wikipedia.org/wiki/List_of_Walt_Disney_Pictures_films\")\n",
    "soup = bs(r.content)\n",
    "movies = soup.select(\".wikitable.sortable i a\")\n",
    "\n",
    "base_path = \"https://en.wikipedia.org/\"\n",
    "MOVIE_INFO_LIST = []\n",
    "\n",
    "for index, movie in enumerate(movies):\n",
    "    if index % 10 == 0:\n",
    "        print(index)\n",
    "    try:\n",
    "        href = movie[\"href\"]\n",
    "        full_path = base_path + href\n",
    "        title = movie[\"title\"]\n",
    "        MOVIE_INFO_LIST.append(get_info_box(full_path))    \n",
    "    except Exception as e:\n",
    "        print(movie.get_text())\n",
    "        print(e)"
   ]
  },
  {
   "cell_type": "code",
   "execution_count": 17,
   "id": "9d462e42",
   "metadata": {},
   "outputs": [
    {
     "data": {
      "text/plain": [
       "502"
      ]
     },
     "execution_count": 17,
     "metadata": {},
     "output_type": "execute_result"
    }
   ],
   "source": [
    "len(MOVIE_INFO_LIST)"
   ]
  },
  {
   "cell_type": "markdown",
   "id": "7db2a69b",
   "metadata": {},
   "source": [
    "#### Save/Reload Movie Data"
   ]
  },
  {
   "cell_type": "code",
   "execution_count": 74,
   "id": "5e61130b",
   "metadata": {},
   "outputs": [],
   "source": [
    "import json\n",
    "\n",
    "def save_data(title: str, data) -> None:\n",
    "    \"\"\"Saving your data into json file named 'title'\n",
    "        title - name of file winth format(.txt,.json..)\n",
    "        data - your data)\n",
    "    \"\"\"\n",
    "    with open(title, \"w\", encoding=\"utf-8\") as f:\n",
    "        json.dump(data, f, ensure_ascii=False, indent=2)"
   ]
  },
  {
   "cell_type": "code",
   "execution_count": 75,
   "id": "da9c98ce",
   "metadata": {},
   "outputs": [],
   "source": [
    "import json\n",
    "\n",
    "def load_data(title: str):\n",
    "    with open(title, encoding=\"utf-8\") as f:\n",
    "        return json.load(f)"
   ]
  },
  {
   "cell_type": "code",
   "execution_count": 20,
   "id": "806a6175",
   "metadata": {},
   "outputs": [],
   "source": [
    "save_data(\"disney_data_сleaned.json\", MOVIE_INFO_LIST)"
   ]
  },
  {
   "cell_type": "code",
   "execution_count": null,
   "id": "290e191c",
   "metadata": {},
   "outputs": [],
   "source": []
  },
  {
   "cell_type": "markdown",
   "id": "8af3d09e",
   "metadata": {},
   "source": [
    "### Task 3: Clean our data!"
   ]
  },
  {
   "cell_type": "code",
   "execution_count": 21,
   "id": "874ce8c6",
   "metadata": {},
   "outputs": [],
   "source": [
    "movie_info_list = load_data(\"disney_data.json\")"
   ]
  },
  {
   "cell_type": "markdown",
   "id": "5d12ce84",
   "metadata": {},
   "source": [
    "#### Subtasks\n",
    "- Clean up ref [2][3].. -  <font color=\"green\">Check</font>\n",
    "- Convert running time into an int-  <font color=\"green\">Check</font>\n",
    "- Convert dates into datetime obj-  <font color=\"green\">Check</font>\n",
    "- Split up long strings-  <font color=\"green\">Check</font>\n",
    "- Convert Budget & Box office to numbers"
   ]
  },
  {
   "cell_type": "code",
   "execution_count": 22,
   "id": "9c143ff1",
   "metadata": {},
   "outputs": [],
   "source": [
    "#  Clean Up references (remove [1],[2],[3]...)\n",
    "#  Done wiht (def clean_tags() funk)"
   ]
  },
  {
   "cell_type": "code",
   "execution_count": 23,
   "id": "65f1f216",
   "metadata": {},
   "outputs": [],
   "source": [
    "#  Split up the long strings\n",
    "#  Done wintgh (added elif row_data.find(\"br\") statment in get_content_value() funk)"
   ]
  },
  {
   "cell_type": "code",
   "execution_count": 34,
   "id": "1b3c417f",
   "metadata": {},
   "outputs": [],
   "source": [
    "#  Convert running time into an int\n",
    "#  Done\n",
    "def minute_to_int(running_time):\n",
    "    if running_time == 'N/A':\n",
    "        return None\n",
    "    if isinstance(running_time, list):\n",
    "        return int(running_time[0].split(' ')[0])\n",
    "    else: #  is a string\n",
    "        return int(running_time.split(' ')[0])\n",
    "    \n",
    "for movie in movie_info_list:\n",
    "        movie[\"Running time (int)\"] = minute_to_int(movie.get(\"Running time\", 'N/A'))"
   ]
  },
  {
   "cell_type": "code",
   "execution_count": 37,
   "id": "b4e2c998",
   "metadata": {},
   "outputs": [],
   "source": [
    "#  print([movie.get(\"Running time (int)\", \"N\\A\") for movie in movie_info_list])"
   ]
  },
  {
   "cell_type": "code",
   "execution_count": 60,
   "id": "7946faa3",
   "metadata": {},
   "outputs": [],
   "source": [
    "# Convert dates into DateTime objs\n",
    "\n",
    "from datetime import datetime\n",
    "dates = [movie.get(\"Release date\", \"N\\A\") for movie in movie_info_list]\n",
    "\n",
    "def clean_date(date):\n",
    "    return date.split(\"(\")[0].strip()\n",
    "\n",
    "def date_conversion(date):\n",
    "    if isinstance(date, list):\n",
    "        date = date[0]\n",
    "        \n",
    "    if date == 'N\\A':\n",
    "        return None\n",
    "        \n",
    "    date_str = clean_date(date)\n",
    "    \n",
    "    frms = [\"%B %d, %Y\", \"%d %B %Y\"]\n",
    "    for fmt in frms:\n",
    "        try:\n",
    "            return datetime.strptime(date_str, fmt)\n",
    "        except:\n",
    "            pass\n",
    "    return None"
   ]
  },
  {
   "cell_type": "code",
   "execution_count": 64,
   "id": "9de3e13c",
   "metadata": {},
   "outputs": [],
   "source": [
    "for movie in movie_info_list:\n",
    "        movie[\"Release date (datetime)\"] = date_conversion(movie.get(\"Release date\",\"N/A\"))"
   ]
  },
  {
   "cell_type": "markdown",
   "id": "5d1f295f",
   "metadata": {},
   "source": [
    "#### Use pickle for save/load data"
   ]
  },
  {
   "cell_type": "code",
   "execution_count": 77,
   "id": "43dee5ad",
   "metadata": {},
   "outputs": [],
   "source": [
    "import pickle\n",
    "def save_data_pickle(name, data):\n",
    "    with open(name,  'wb') as f:\n",
    "        pickle.dump(data, f)"
   ]
  },
  {
   "cell_type": "code",
   "execution_count": 78,
   "id": "70564a61",
   "metadata": {},
   "outputs": [],
   "source": [
    "import pickle\n",
    "def load_data_pickle(name):\n",
    "    with open(name, \"rb\") as f:\n",
    "        return pickle.load(f)"
   ]
  },
  {
   "cell_type": "code",
   "execution_count": 80,
   "id": "587ad059",
   "metadata": {},
   "outputs": [],
   "source": [
    "save_data_pickle(\"disney_data_сleaned_formated.pickle\", movie_info_list)"
   ]
  },
  {
   "cell_type": "code",
   "execution_count": null,
   "id": "6f045685",
   "metadata": {},
   "outputs": [],
   "source": []
  }
 ],
 "metadata": {
  "kernelspec": {
   "display_name": "Python 3",
   "language": "python",
   "name": "python3"
  },
  "language_info": {
   "codemirror_mode": {
    "name": "ipython",
    "version": 3
   },
   "file_extension": ".py",
   "mimetype": "text/x-python",
   "name": "python",
   "nbconvert_exporter": "python",
   "pygments_lexer": "ipython3",
   "version": "3.8.8"
  }
 },
 "nbformat": 4,
 "nbformat_minor": 5
}
